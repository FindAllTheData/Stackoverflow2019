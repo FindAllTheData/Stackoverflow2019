{
 "cells": [
  {
   "cell_type": "markdown",
   "metadata": {},
   "source": [
    "这个项目的目的是通过数据清理和分析，找出在2019里最热门的数据科学问题。"
   ]
  },
  {
   "cell_type": "code",
   "execution_count": 1,
   "metadata": {},
   "outputs": [],
   "source": [
    "import pandas as pd\n",
    "import matplotlib.pyplot as plt\n",
    "import seaborn as sns\n",
    "\n",
    "%matplotlib inline"
   ]
  },
  {
   "cell_type": "code",
   "execution_count": 2,
   "metadata": {},
   "outputs": [
    {
     "name": "stdout",
     "output_type": "stream",
     "text": [
      "<class 'pandas.core.frame.DataFrame'>\n",
      "RangeIndex: 8839 entries, 0 to 8838\n",
      "Data columns (total 7 columns):\n",
      " #   Column         Non-Null Count  Dtype         \n",
      "---  ------         --------------  -----         \n",
      " 0   Id             8839 non-null   int64         \n",
      " 1   CreationDate   8839 non-null   datetime64[ns]\n",
      " 2   Score          8839 non-null   int64         \n",
      " 3   ViewCount      8839 non-null   int64         \n",
      " 4   Tags           8839 non-null   object        \n",
      " 5   AnswerCount    8839 non-null   int64         \n",
      " 6   FavoriteCount  1407 non-null   float64       \n",
      "dtypes: datetime64[ns](1), float64(1), int64(4), object(1)\n",
      "memory usage: 483.5+ KB\n"
     ]
    }
   ],
   "source": [
    "#读取数据\n",
    "science_questions = pd.read_csv(\"2019_questions.csv\", parse_dates=[\"CreationDate\"])\n",
    "science_questions.info()"
   ]
  },
  {
   "cell_type": "code",
   "execution_count": 3,
   "metadata": {
    "scrolled": true
   },
   "outputs": [
    {
     "data": {
      "text/plain": [
       "Id                        int64\n",
       "CreationDate     datetime64[ns]\n",
       "Score                     int64\n",
       "ViewCount                 int64\n",
       "Tags                     object\n",
       "AnswerCount               int64\n",
       "FavoriteCount           float64\n",
       "dtype: object"
      ]
     },
     "execution_count": 3,
     "metadata": {},
     "output_type": "execute_result"
    }
   ],
   "source": [
    "science_questions.dtypes"
   ]
  },
  {
   "cell_type": "markdown",
   "metadata": {},
   "source": [
    "1. Id: An identification number for the post. （每个post的ID）\n",
    "2. PostTypeId: An identification number for the type of post.（每一种类型的post的ID）\n",
    "3. CreationDate: The date and time of creation of the post. （post的开发时间）\n",
    "4. Score: The post's score. （post的分数）\n",
    "5. ViewCount: How many times the post was viewed. （post被查看了多少次）\n",
    "6. Tags: What tags were used. \n",
    "7. AnswerCount: How many answers the question got (only applicable to question posts).\n",
    "8. FavoriteCount: How many times the question was favored (only applicable to question posts)."
   ]
  },
  {
   "cell_type": "code",
   "execution_count": 4,
   "metadata": {},
   "outputs": [
    {
     "data": {
      "text/plain": [
       "Id                  0\n",
       "CreationDate        0\n",
       "Score               0\n",
       "ViewCount           0\n",
       "Tags                0\n",
       "AnswerCount         0\n",
       "FavoriteCount    7432\n",
       "dtype: int64"
      ]
     },
     "execution_count": 4,
     "metadata": {},
     "output_type": "execute_result"
    }
   ],
   "source": [
    "#找出空值，进行数据清理\n",
    "science_questions.isnull().sum()"
   ]
  },
  {
   "cell_type": "code",
   "execution_count": 5,
   "metadata": {},
   "outputs": [
    {
     "name": "stdout",
     "output_type": "stream",
     "text": [
      "0    NaN\n",
      "1    NaN\n",
      "2    NaN\n",
      "3    NaN\n",
      "4    NaN\n",
      "5    NaN\n",
      "6    1.0\n",
      "7    NaN\n",
      "8    NaN\n",
      "9    NaN\n",
      "Name: FavoriteCount, dtype: float64\n"
     ]
    }
   ],
   "source": [
    "print(science_questions[\"FavoriteCount\"].head(10))"
   ]
  },
  {
   "cell_type": "markdown",
   "metadata": {},
   "source": [
    "We see that only FavoriteCount has missing values(7432).A missing value on this column probably means that the question was is not present in any users' favorite list,so we can replace the missing values with zero.\n",
    "\n",
    "我们看到只有FavoriteCount这一列里有空值（7432）。此列上的丢失值可能意味着该问题不在任何用户的收藏夹列表中，因此我们可以将丢失的值替换为零。"
   ]
  },
  {
   "cell_type": "code",
   "execution_count": 6,
   "metadata": {},
   "outputs": [],
   "source": [
    "science_questions[\"FavoriteCount\"].fillna(0,inplace = True)"
   ]
  },
  {
   "cell_type": "code",
   "execution_count": 7,
   "metadata": {},
   "outputs": [
    {
     "data": {
      "text/plain": [
       "Id               0\n",
       "CreationDate     0\n",
       "Score            0\n",
       "ViewCount        0\n",
       "Tags             0\n",
       "AnswerCount      0\n",
       "FavoriteCount    0\n",
       "dtype: int64"
      ]
     },
     "execution_count": 7,
     "metadata": {},
     "output_type": "execute_result"
    }
   ],
   "source": [
    "science_questions.isnull().sum()"
   ]
  },
  {
   "cell_type": "code",
   "execution_count": 8,
   "metadata": {},
   "outputs": [
    {
     "data": {
      "text/plain": [
       "Id                        int64\n",
       "CreationDate     datetime64[ns]\n",
       "Score                     int64\n",
       "ViewCount                 int64\n",
       "Tags                     object\n",
       "AnswerCount               int64\n",
       "FavoriteCount             int32\n",
       "dtype: object"
      ]
     },
     "execution_count": 8,
     "metadata": {},
     "output_type": "execute_result"
    }
   ],
   "source": [
    "science_questions[\"FavoriteCount\"] = science_questions[\"FavoriteCount\"].astype(int)\n",
    "science_questions.dtypes"
   ]
  },
  {
   "cell_type": "code",
   "execution_count": 9,
   "metadata": {
    "scrolled": true
   },
   "outputs": [
    {
     "data": {
      "text/html": [
       "<div>\n",
       "<style scoped>\n",
       "    .dataframe tbody tr th:only-of-type {\n",
       "        vertical-align: middle;\n",
       "    }\n",
       "\n",
       "    .dataframe tbody tr th {\n",
       "        vertical-align: top;\n",
       "    }\n",
       "\n",
       "    .dataframe thead th {\n",
       "        text-align: right;\n",
       "    }\n",
       "</style>\n",
       "<table border=\"1\" class=\"dataframe\">\n",
       "  <thead>\n",
       "    <tr style=\"text-align: right;\">\n",
       "      <th></th>\n",
       "      <th>Id</th>\n",
       "      <th>CreationDate</th>\n",
       "      <th>Score</th>\n",
       "      <th>ViewCount</th>\n",
       "      <th>Tags</th>\n",
       "      <th>AnswerCount</th>\n",
       "      <th>FavoriteCount</th>\n",
       "    </tr>\n",
       "  </thead>\n",
       "  <tbody>\n",
       "    <tr>\n",
       "      <th>7269</th>\n",
       "      <td>64823</td>\n",
       "      <td>2019-12-14 09:43:59</td>\n",
       "      <td>-1</td>\n",
       "      <td>17</td>\n",
       "      <td>[machine-learning, clustering, lstm, bigdata, ...</td>\n",
       "      <td>1</td>\n",
       "      <td>0</td>\n",
       "    </tr>\n",
       "    <tr>\n",
       "      <th>1947</th>\n",
       "      <td>46886</td>\n",
       "      <td>2019-03-07 04:52:56</td>\n",
       "      <td>1</td>\n",
       "      <td>76</td>\n",
       "      <td>[tensorflow, keras]</td>\n",
       "      <td>1</td>\n",
       "      <td>0</td>\n",
       "    </tr>\n",
       "    <tr>\n",
       "      <th>2415</th>\n",
       "      <td>58577</td>\n",
       "      <td>2019-09-03 00:52:15</td>\n",
       "      <td>9</td>\n",
       "      <td>2328</td>\n",
       "      <td>[machine-learning, keras, scikit-learn]</td>\n",
       "      <td>3</td>\n",
       "      <td>6</td>\n",
       "    </tr>\n",
       "  </tbody>\n",
       "</table>\n",
       "</div>"
      ],
      "text/plain": [
       "         Id        CreationDate  Score  ViewCount  \\\n",
       "7269  64823 2019-12-14 09:43:59     -1         17   \n",
       "1947  46886 2019-03-07 04:52:56      1         76   \n",
       "2415  58577 2019-09-03 00:52:15      9       2328   \n",
       "\n",
       "                                                   Tags  AnswerCount  \\\n",
       "7269  [machine-learning, clustering, lstm, bigdata, ...            1   \n",
       "1947                                [tensorflow, keras]            1   \n",
       "2415            [machine-learning, keras, scikit-learn]            3   \n",
       "\n",
       "      FavoriteCount  \n",
       "7269              0  \n",
       "1947              0  \n",
       "2415              6  "
      ]
     },
     "execution_count": 9,
     "metadata": {},
     "output_type": "execute_result"
    }
   ],
   "source": [
    "science_questions[\"Tags\"] = science_questions[\"Tags\"].str.replace(\"<\", \"\").str.replace(\">\",\" \").str.split()\n",
    "science_questions.sample(3)"
   ]
  },
  {
   "cell_type": "markdown",
   "metadata": {},
   "source": [
    "Question（需要分析的问题）:\n",
    "1. Count how many times each tag was used.（计算每个标签使用了多少次）\n",
    "2. Count how many times each tag was viewed. （计算出该每一类帖子被查看了多少次）\n",
    "3. Create visualizations for the top tags of each of the above results. （用最合适的图来显示上面两个问题的结果）"
   ]
  },
  {
   "cell_type": "code",
   "execution_count": 10,
   "metadata": {},
   "outputs": [
    {
     "data": {
      "text/html": [
       "<div>\n",
       "<style scoped>\n",
       "    .dataframe tbody tr th:only-of-type {\n",
       "        vertical-align: middle;\n",
       "    }\n",
       "\n",
       "    .dataframe tbody tr th {\n",
       "        vertical-align: top;\n",
       "    }\n",
       "\n",
       "    .dataframe thead th {\n",
       "        text-align: right;\n",
       "    }\n",
       "</style>\n",
       "<table border=\"1\" class=\"dataframe\">\n",
       "  <thead>\n",
       "    <tr style=\"text-align: right;\">\n",
       "      <th></th>\n",
       "      <th>Count</th>\n",
       "    </tr>\n",
       "  </thead>\n",
       "  <tbody>\n",
       "    <tr>\n",
       "      <th>machine-learning</th>\n",
       "      <td>2693</td>\n",
       "    </tr>\n",
       "    <tr>\n",
       "      <th>python</th>\n",
       "      <td>1814</td>\n",
       "    </tr>\n",
       "    <tr>\n",
       "      <th>deep-learning</th>\n",
       "      <td>1220</td>\n",
       "    </tr>\n",
       "    <tr>\n",
       "      <th>neural-network</th>\n",
       "      <td>1055</td>\n",
       "    </tr>\n",
       "    <tr>\n",
       "      <th>keras</th>\n",
       "      <td>935</td>\n",
       "    </tr>\n",
       "    <tr>\n",
       "      <th>classification</th>\n",
       "      <td>685</td>\n",
       "    </tr>\n",
       "    <tr>\n",
       "      <th>tensorflow</th>\n",
       "      <td>584</td>\n",
       "    </tr>\n",
       "    <tr>\n",
       "      <th>scikit-learn</th>\n",
       "      <td>540</td>\n",
       "    </tr>\n",
       "    <tr>\n",
       "      <th>nlp</th>\n",
       "      <td>493</td>\n",
       "    </tr>\n",
       "    <tr>\n",
       "      <th>cnn</th>\n",
       "      <td>489</td>\n",
       "    </tr>\n",
       "    <tr>\n",
       "      <th>time-series</th>\n",
       "      <td>466</td>\n",
       "    </tr>\n",
       "    <tr>\n",
       "      <th>lstm</th>\n",
       "      <td>402</td>\n",
       "    </tr>\n",
       "    <tr>\n",
       "      <th>pandas</th>\n",
       "      <td>354</td>\n",
       "    </tr>\n",
       "    <tr>\n",
       "      <th>regression</th>\n",
       "      <td>347</td>\n",
       "    </tr>\n",
       "    <tr>\n",
       "      <th>dataset</th>\n",
       "      <td>340</td>\n",
       "    </tr>\n",
       "  </tbody>\n",
       "</table>\n",
       "</div>"
      ],
      "text/plain": [
       "                  Count\n",
       "machine-learning   2693\n",
       "python             1814\n",
       "deep-learning      1220\n",
       "neural-network     1055\n",
       "keras               935\n",
       "classification      685\n",
       "tensorflow          584\n",
       "scikit-learn        540\n",
       "nlp                 493\n",
       "cnn                 489\n",
       "time-series         466\n",
       "lstm                402\n",
       "pandas              354\n",
       "regression          347\n",
       "dataset             340"
      ]
     },
     "execution_count": 10,
     "metadata": {},
     "output_type": "execute_result"
    }
   ],
   "source": [
    "#We create a dictionary for first problems.\n",
    "# 新建一个dictionary 用于第一个问题\n",
    "dict_tag = {}\n",
    "\n",
    "for tags in science_questions[\"Tags\"]:\n",
    "    for tag in tags:\n",
    "        if tag in dict_tag:\n",
    "            dict_tag[tag] += 1\n",
    "        else:\n",
    "            dict_tag[tag] = 1\n",
    "\n",
    "#Create and convert a dict to a DataFrame.\n",
    "most_used = pd.DataFrame.from_dict(dict_tag,orient='index', columns = ['Count'])\n",
    "most_used.sort_values(\"Count\", ascending = False,inplace = True)\n",
    "most_used.head(15)"
   ]
  },
  {
   "cell_type": "code",
   "execution_count": 11,
   "metadata": {
    "scrolled": false
   },
   "outputs": [
    {
     "data": {
      "image/png": "[encoded data removed]",
      "text/plain": [
       "<Figure size 720x720 with 1 Axes>"
      ]
     },
     "metadata": {
      "needs_background": "light"
     },
     "output_type": "display_data"
    }
   ],
   "source": [
    "#Graph the first 15 rows.（用图像显示前15行）\n",
    "\n",
    "fig, ax = plt.subplots(figsize = (10,10))\n",
    "ax = sns.barplot(x = most_used.head(15).Count, y = most_used.head(15).index)\n",
    "plt.title(\"Most Used\") #最多人用的标签\n",
    "plt.show()"
   ]
  },
  {
   "cell_type": "markdown",
   "metadata": {},
   "source": [
    "通过图表，我们可以发现机器学习，python和深度学习是最多人问或者讨论的话题。"
   ]
  },
  {
   "cell_type": "code",
   "execution_count": 12,
   "metadata": {},
   "outputs": [],
   "source": [
    "#Use ViewCount columns for the Second problem. （第二个问题）\n",
    "most_viewed = science_questions.sort_values(by = \"ViewCount\", ascending = False)[[\"Tags\",\"ViewCount\"]]"
   ]
  },
  {
   "cell_type": "code",
   "execution_count": 13,
   "metadata": {},
   "outputs": [
    {
     "data": {
      "text/html": [
       "<div>\n",
       "<style scoped>\n",
       "    .dataframe tbody tr th:only-of-type {\n",
       "        vertical-align: middle;\n",
       "    }\n",
       "\n",
       "    .dataframe tbody tr th {\n",
       "        vertical-align: top;\n",
       "    }\n",
       "\n",
       "    .dataframe thead th {\n",
       "        text-align: right;\n",
       "    }\n",
       "</style>\n",
       "<table border=\"1\" class=\"dataframe\">\n",
       "  <thead>\n",
       "    <tr style=\"text-align: right;\">\n",
       "      <th></th>\n",
       "      <th>Tags</th>\n",
       "      <th>ViewCount</th>\n",
       "    </tr>\n",
       "  </thead>\n",
       "  <tbody>\n",
       "    <tr>\n",
       "      <th>838</th>\n",
       "      <td>[python, pandas]</td>\n",
       "      <td>33203</td>\n",
       "    </tr>\n",
       "    <tr>\n",
       "      <th>3035</th>\n",
       "      <td>[python, dataframe, csv, data-formats]</td>\n",
       "      <td>28079</td>\n",
       "    </tr>\n",
       "    <tr>\n",
       "      <th>633</th>\n",
       "      <td>[machine-learning, neural-network, deep-learni...</td>\n",
       "      <td>28060</td>\n",
       "    </tr>\n",
       "    <tr>\n",
       "      <th>764</th>\n",
       "      <td>[data-mining, pandas]</td>\n",
       "      <td>12847</td>\n",
       "    </tr>\n",
       "    <tr>\n",
       "      <th>7718</th>\n",
       "      <td>[scikit-learn, pandas, numpy]</td>\n",
       "      <td>11136</td>\n",
       "    </tr>\n",
       "    <tr>\n",
       "      <th>300</th>\n",
       "      <td>[python, computer-vision, opencv]</td>\n",
       "      <td>11122</td>\n",
       "    </tr>\n",
       "    <tr>\n",
       "      <th>1514</th>\n",
       "      <td>[pandas, dataframe, excel, data.table]</td>\n",
       "      <td>10597</td>\n",
       "    </tr>\n",
       "    <tr>\n",
       "      <th>6412</th>\n",
       "      <td>[machine-learning, python]</td>\n",
       "      <td>9209</td>\n",
       "    </tr>\n",
       "    <tr>\n",
       "      <th>1647</th>\n",
       "      <td>[deep-learning, gpu]</td>\n",
       "      <td>8977</td>\n",
       "    </tr>\n",
       "    <tr>\n",
       "      <th>4511</th>\n",
       "      <td>[nlp, encoding, attention-mechanism, transformer]</td>\n",
       "      <td>8474</td>\n",
       "    </tr>\n",
       "    <tr>\n",
       "      <th>768</th>\n",
       "      <td>[machine-learning, deep-learning]</td>\n",
       "      <td>8373</td>\n",
       "    </tr>\n",
       "    <tr>\n",
       "      <th>3028</th>\n",
       "      <td>[python, matplotlib, seaborn]</td>\n",
       "      <td>8012</td>\n",
       "    </tr>\n",
       "    <tr>\n",
       "      <th>1512</th>\n",
       "      <td>[pandas, dataframe, difference]</td>\n",
       "      <td>7620</td>\n",
       "    </tr>\n",
       "    <tr>\n",
       "      <th>1200</th>\n",
       "      <td>[seaborn]</td>\n",
       "      <td>7523</td>\n",
       "    </tr>\n",
       "    <tr>\n",
       "      <th>2334</th>\n",
       "      <td>[keras, epochs]</td>\n",
       "      <td>7374</td>\n",
       "    </tr>\n",
       "  </tbody>\n",
       "</table>\n",
       "</div>"
      ],
      "text/plain": [
       "                                                   Tags  ViewCount\n",
       "838                                    [python, pandas]      33203\n",
       "3035             [python, dataframe, csv, data-formats]      28079\n",
       "633   [machine-learning, neural-network, deep-learni...      28060\n",
       "764                               [data-mining, pandas]      12847\n",
       "7718                      [scikit-learn, pandas, numpy]      11136\n",
       "300                   [python, computer-vision, opencv]      11122\n",
       "1514             [pandas, dataframe, excel, data.table]      10597\n",
       "6412                         [machine-learning, python]       9209\n",
       "1647                               [deep-learning, gpu]       8977\n",
       "4511  [nlp, encoding, attention-mechanism, transformer]       8474\n",
       "768                   [machine-learning, deep-learning]       8373\n",
       "3028                      [python, matplotlib, seaborn]       8012\n",
       "1512                    [pandas, dataframe, difference]       7620\n",
       "1200                                          [seaborn]       7523\n",
       "2334                                    [keras, epochs]       7374"
      ]
     },
     "execution_count": 13,
     "metadata": {},
     "output_type": "execute_result"
    }
   ],
   "source": [
    "most_viewed.head(15)\n",
    "#We can see example of the Tags info and ViewCount."
   ]
  },
  {
   "cell_type": "code",
   "execution_count": 14,
   "metadata": {},
   "outputs": [
    {
     "data": {
      "text/plain": [
       "535935"
      ]
     },
     "execution_count": 14,
     "metadata": {},
     "output_type": "execute_result"
    }
   ],
   "source": [
    "dict_viewed_tags = {}\n",
    "\n",
    "for idx,tags in enumerate(science_questions.Tags):\n",
    "    for tag in tags:\n",
    "        if tag in dict_viewed_tags:\n",
    "            dict_viewed_tags[tag] += science_questions.ViewCount.iloc[idx]\n",
    "        else:\n",
    "            dict_viewed_tags[tag] = 1\n",
    "\n",
    "dict_viewed_tags['python']"
   ]
  },
  {
   "cell_type": "code",
   "execution_count": 15,
   "metadata": {
    "scrolled": false
   },
   "outputs": [
    {
     "data": {
      "image/png": "[encoded data removed]",
      "text/plain": [
       "<Figure size 720x720 with 1 Axes>"
      ]
     },
     "metadata": {
      "needs_background": "light"
     },
     "output_type": "display_data"
    }
   ],
   "source": [
    "#Create and convert a dict to a DataFrame.\n",
    "most_viewed = pd.DataFrame.from_dict(dict_viewed_tags,orient='index', columns = ['ViewCount'])\n",
    "most_viewed.sort_values(\"ViewCount\", ascending = False,inplace = True)\n",
    "\n",
    "#Graph the first row of this DataFrame\n",
    "fig, ax = plt.subplots(figsize=(10,10))\n",
    "ax = sns.barplot(x = most_viewed.head(15).ViewCount, y = most_viewed.head(15).index)\n",
    "plt.title(\"Most Viewed\")\n",
    "plt.show()"
   ]
  },
  {
   "cell_type": "markdown",
   "metadata": {},
   "source": [
    "通过图表，我们可以发现python和机器学习是最多人查阅的话题。"
   ]
  },
  {
   "cell_type": "code",
   "execution_count": 16,
   "metadata": {},
   "outputs": [],
   "source": [
    "#Merge two DataFrame for the future use.\n",
    "in_used = pd.merge(most_used, most_viewed, how=\"left\", left_index=True, right_index=True)\n",
    "in_used.sort_values('ViewCount',ascending = False,inplace = True)"
   ]
  },
  {
   "cell_type": "markdown",
   "metadata": {},
   "source": [
    "Here's a list of the tags in common: python, machine-learning, deep-learning, neural-network, keras, tensorflow, classification, scikit-learn.\n",
    "\n",
    "Are there strong relations between them. Like, Does python has a strong relationship with machine_learning? etc (它们之间是否存在牢固的关系。 例如，python是否与machine_learning有很强的关系？ 等等)"
   ]
  },
  {
   "cell_type": "code",
   "execution_count": 17,
   "metadata": {},
   "outputs": [
    {
     "data": {
      "text/html": [
       "<div>\n",
       "<style scoped>\n",
       "    .dataframe tbody tr th:only-of-type {\n",
       "        vertical-align: middle;\n",
       "    }\n",
       "\n",
       "    .dataframe tbody tr th {\n",
       "        vertical-align: top;\n",
       "    }\n",
       "\n",
       "    .dataframe thead th {\n",
       "        text-align: right;\n",
       "    }\n",
       "</style>\n",
       "<table border=\"1\" class=\"dataframe\">\n",
       "  <thead>\n",
       "    <tr style=\"text-align: right;\">\n",
       "      <th></th>\n",
       "      <th>machine-learning</th>\n",
       "      <th>python</th>\n",
       "      <th>deep-learning</th>\n",
       "      <th>neural-network</th>\n",
       "      <th>keras</th>\n",
       "      <th>classification</th>\n",
       "      <th>tensorflow</th>\n",
       "      <th>scikit-learn</th>\n",
       "      <th>nlp</th>\n",
       "      <th>cnn</th>\n",
       "      <th>time-series</th>\n",
       "      <th>lstm</th>\n",
       "      <th>pandas</th>\n",
       "      <th>regression</th>\n",
       "      <th>dataset</th>\n",
       "    </tr>\n",
       "  </thead>\n",
       "  <tbody>\n",
       "    <tr>\n",
       "      <th>machine-learning</th>\n",
       "      <td>2693</td>\n",
       "      <td>499</td>\n",
       "      <td>429</td>\n",
       "      <td>366</td>\n",
       "      <td>195</td>\n",
       "      <td>259</td>\n",
       "      <td>106</td>\n",
       "      <td>188</td>\n",
       "      <td>113</td>\n",
       "      <td>124</td>\n",
       "      <td>131</td>\n",
       "      <td>71</td>\n",
       "      <td>62</td>\n",
       "      <td>119</td>\n",
       "      <td>99</td>\n",
       "    </tr>\n",
       "    <tr>\n",
       "      <th>python</th>\n",
       "      <td>499</td>\n",
       "      <td>1814</td>\n",
       "      <td>160</td>\n",
       "      <td>137</td>\n",
       "      <td>280</td>\n",
       "      <td>98</td>\n",
       "      <td>167</td>\n",
       "      <td>235</td>\n",
       "      <td>71</td>\n",
       "      <td>62</td>\n",
       "      <td>105</td>\n",
       "      <td>61</td>\n",
       "      <td>244</td>\n",
       "      <td>59</td>\n",
       "      <td>53</td>\n",
       "    </tr>\n",
       "    <tr>\n",
       "      <th>deep-learning</th>\n",
       "      <td>429</td>\n",
       "      <td>160</td>\n",
       "      <td>1220</td>\n",
       "      <td>305</td>\n",
       "      <td>247</td>\n",
       "      <td>59</td>\n",
       "      <td>136</td>\n",
       "      <td>16</td>\n",
       "      <td>72</td>\n",
       "      <td>160</td>\n",
       "      <td>44</td>\n",
       "      <td>103</td>\n",
       "      <td>1</td>\n",
       "      <td>21</td>\n",
       "      <td>32</td>\n",
       "    </tr>\n",
       "    <tr>\n",
       "      <th>neural-network</th>\n",
       "      <td>366</td>\n",
       "      <td>137</td>\n",
       "      <td>305</td>\n",
       "      <td>1055</td>\n",
       "      <td>235</td>\n",
       "      <td>65</td>\n",
       "      <td>108</td>\n",
       "      <td>24</td>\n",
       "      <td>24</td>\n",
       "      <td>118</td>\n",
       "      <td>33</td>\n",
       "      <td>69</td>\n",
       "      <td>1</td>\n",
       "      <td>42</td>\n",
       "      <td>20</td>\n",
       "    </tr>\n",
       "    <tr>\n",
       "      <th>keras</th>\n",
       "      <td>195</td>\n",
       "      <td>280</td>\n",
       "      <td>247</td>\n",
       "      <td>235</td>\n",
       "      <td>935</td>\n",
       "      <td>58</td>\n",
       "      <td>256</td>\n",
       "      <td>34</td>\n",
       "      <td>23</td>\n",
       "      <td>116</td>\n",
       "      <td>51</td>\n",
       "      <td>133</td>\n",
       "      <td>3</td>\n",
       "      <td>31</td>\n",
       "      <td>13</td>\n",
       "    </tr>\n",
       "    <tr>\n",
       "      <th>classification</th>\n",
       "      <td>259</td>\n",
       "      <td>98</td>\n",
       "      <td>59</td>\n",
       "      <td>65</td>\n",
       "      <td>58</td>\n",
       "      <td>685</td>\n",
       "      <td>20</td>\n",
       "      <td>47</td>\n",
       "      <td>35</td>\n",
       "      <td>20</td>\n",
       "      <td>25</td>\n",
       "      <td>20</td>\n",
       "      <td>3</td>\n",
       "      <td>34</td>\n",
       "      <td>28</td>\n",
       "    </tr>\n",
       "    <tr>\n",
       "      <th>tensorflow</th>\n",
       "      <td>106</td>\n",
       "      <td>167</td>\n",
       "      <td>136</td>\n",
       "      <td>108</td>\n",
       "      <td>256</td>\n",
       "      <td>20</td>\n",
       "      <td>584</td>\n",
       "      <td>15</td>\n",
       "      <td>11</td>\n",
       "      <td>57</td>\n",
       "      <td>9</td>\n",
       "      <td>43</td>\n",
       "      <td>3</td>\n",
       "      <td>9</td>\n",
       "      <td>9</td>\n",
       "    </tr>\n",
       "    <tr>\n",
       "      <th>scikit-learn</th>\n",
       "      <td>188</td>\n",
       "      <td>235</td>\n",
       "      <td>16</td>\n",
       "      <td>24</td>\n",
       "      <td>34</td>\n",
       "      <td>47</td>\n",
       "      <td>15</td>\n",
       "      <td>540</td>\n",
       "      <td>12</td>\n",
       "      <td>0</td>\n",
       "      <td>12</td>\n",
       "      <td>2</td>\n",
       "      <td>37</td>\n",
       "      <td>37</td>\n",
       "      <td>9</td>\n",
       "    </tr>\n",
       "    <tr>\n",
       "      <th>nlp</th>\n",
       "      <td>113</td>\n",
       "      <td>71</td>\n",
       "      <td>72</td>\n",
       "      <td>24</td>\n",
       "      <td>23</td>\n",
       "      <td>35</td>\n",
       "      <td>11</td>\n",
       "      <td>12</td>\n",
       "      <td>493</td>\n",
       "      <td>7</td>\n",
       "      <td>0</td>\n",
       "      <td>19</td>\n",
       "      <td>3</td>\n",
       "      <td>2</td>\n",
       "      <td>11</td>\n",
       "    </tr>\n",
       "    <tr>\n",
       "      <th>cnn</th>\n",
       "      <td>124</td>\n",
       "      <td>62</td>\n",
       "      <td>160</td>\n",
       "      <td>118</td>\n",
       "      <td>116</td>\n",
       "      <td>20</td>\n",
       "      <td>57</td>\n",
       "      <td>0</td>\n",
       "      <td>7</td>\n",
       "      <td>489</td>\n",
       "      <td>8</td>\n",
       "      <td>24</td>\n",
       "      <td>1</td>\n",
       "      <td>6</td>\n",
       "      <td>11</td>\n",
       "    </tr>\n",
       "    <tr>\n",
       "      <th>time-series</th>\n",
       "      <td>131</td>\n",
       "      <td>105</td>\n",
       "      <td>44</td>\n",
       "      <td>33</td>\n",
       "      <td>51</td>\n",
       "      <td>25</td>\n",
       "      <td>9</td>\n",
       "      <td>12</td>\n",
       "      <td>0</td>\n",
       "      <td>8</td>\n",
       "      <td>466</td>\n",
       "      <td>87</td>\n",
       "      <td>19</td>\n",
       "      <td>24</td>\n",
       "      <td>6</td>\n",
       "    </tr>\n",
       "    <tr>\n",
       "      <th>lstm</th>\n",
       "      <td>71</td>\n",
       "      <td>61</td>\n",
       "      <td>103</td>\n",
       "      <td>69</td>\n",
       "      <td>133</td>\n",
       "      <td>20</td>\n",
       "      <td>43</td>\n",
       "      <td>2</td>\n",
       "      <td>19</td>\n",
       "      <td>24</td>\n",
       "      <td>87</td>\n",
       "      <td>402</td>\n",
       "      <td>7</td>\n",
       "      <td>11</td>\n",
       "      <td>7</td>\n",
       "    </tr>\n",
       "    <tr>\n",
       "      <th>pandas</th>\n",
       "      <td>62</td>\n",
       "      <td>244</td>\n",
       "      <td>1</td>\n",
       "      <td>1</td>\n",
       "      <td>3</td>\n",
       "      <td>3</td>\n",
       "      <td>3</td>\n",
       "      <td>37</td>\n",
       "      <td>3</td>\n",
       "      <td>1</td>\n",
       "      <td>19</td>\n",
       "      <td>7</td>\n",
       "      <td>354</td>\n",
       "      <td>6</td>\n",
       "      <td>14</td>\n",
       "    </tr>\n",
       "    <tr>\n",
       "      <th>regression</th>\n",
       "      <td>119</td>\n",
       "      <td>59</td>\n",
       "      <td>21</td>\n",
       "      <td>42</td>\n",
       "      <td>31</td>\n",
       "      <td>34</td>\n",
       "      <td>9</td>\n",
       "      <td>37</td>\n",
       "      <td>2</td>\n",
       "      <td>6</td>\n",
       "      <td>24</td>\n",
       "      <td>11</td>\n",
       "      <td>6</td>\n",
       "      <td>347</td>\n",
       "      <td>6</td>\n",
       "    </tr>\n",
       "    <tr>\n",
       "      <th>dataset</th>\n",
       "      <td>99</td>\n",
       "      <td>53</td>\n",
       "      <td>32</td>\n",
       "      <td>20</td>\n",
       "      <td>13</td>\n",
       "      <td>28</td>\n",
       "      <td>9</td>\n",
       "      <td>9</td>\n",
       "      <td>11</td>\n",
       "      <td>11</td>\n",
       "      <td>6</td>\n",
       "      <td>7</td>\n",
       "      <td>14</td>\n",
       "      <td>6</td>\n",
       "      <td>340</td>\n",
       "    </tr>\n",
       "  </tbody>\n",
       "</table>\n",
       "</div>"
      ],
      "text/plain": [
       "                  machine-learning  python  deep-learning  neural-network  \\\n",
       "machine-learning              2693     499            429             366   \n",
       "python                         499    1814            160             137   \n",
       "deep-learning                  429     160           1220             305   \n",
       "neural-network                 366     137            305            1055   \n",
       "keras                          195     280            247             235   \n",
       "classification                 259      98             59              65   \n",
       "tensorflow                     106     167            136             108   \n",
       "scikit-learn                   188     235             16              24   \n",
       "nlp                            113      71             72              24   \n",
       "cnn                            124      62            160             118   \n",
       "time-series                    131     105             44              33   \n",
       "lstm                            71      61            103              69   \n",
       "pandas                          62     244              1               1   \n",
       "regression                     119      59             21              42   \n",
       "dataset                         99      53             32              20   \n",
       "\n",
       "                  keras  classification  tensorflow  scikit-learn  nlp  cnn  \\\n",
       "machine-learning    195             259         106           188  113  124   \n",
       "python              280              98         167           235   71   62   \n",
       "deep-learning       247              59         136            16   72  160   \n",
       "neural-network      235              65         108            24   24  118   \n",
       "keras               935              58         256            34   23  116   \n",
       "classification       58             685          20            47   35   20   \n",
       "tensorflow          256              20         584            15   11   57   \n",
       "scikit-learn         34              47          15           540   12    0   \n",
       "nlp                  23              35          11            12  493    7   \n",
       "cnn                 116              20          57             0    7  489   \n",
       "time-series          51              25           9            12    0    8   \n",
       "lstm                133              20          43             2   19   24   \n",
       "pandas                3               3           3            37    3    1   \n",
       "regression           31              34           9            37    2    6   \n",
       "dataset              13              28           9             9   11   11   \n",
       "\n",
       "                  time-series  lstm  pandas  regression  dataset  \n",
       "machine-learning          131    71      62         119       99  \n",
       "python                    105    61     244          59       53  \n",
       "deep-learning              44   103       1          21       32  \n",
       "neural-network             33    69       1          42       20  \n",
       "keras                      51   133       3          31       13  \n",
       "classification             25    20       3          34       28  \n",
       "tensorflow                  9    43       3           9        9  \n",
       "scikit-learn               12     2      37          37        9  \n",
       "nlp                         0    19       3           2       11  \n",
       "cnn                         8    24       1           6       11  \n",
       "time-series               466    87      19          24        6  \n",
       "lstm                       87   402       7          11        7  \n",
       "pandas                     19     7     354           6       14  \n",
       "regression                 24    11       6         347        6  \n",
       "dataset                     6     7      14           6      340  "
      ]
     },
     "execution_count": 17,
     "metadata": {},
     "output_type": "execute_result"
    }
   ],
   "source": [
    "relation = pd.DataFrame(index = most_used.head(15).index,columns = most_used.head(15).index)\n",
    "relation.fillna(0,inplace=True)\n",
    "\n",
    "for tags in science_questions[\"Tags\"]:\n",
    "    for row in relation.index:\n",
    "        for col in relation.columns:\n",
    "            if (row in tags) and (col in tags):\n",
    "                if relation.loc[row,col] == 0:\n",
    "                    relation.loc[row,col] = 1\n",
    "                else:\n",
    "                    relation.loc[row,col] += 1\n",
    "        \n",
    "relation"
   ]
  },
  {
   "cell_type": "code",
   "execution_count": 18,
   "metadata": {},
   "outputs": [
    {
     "data": {
      "image/png": "[encoded data removed]",
      "text/plain": [
       "<Figure size 864x576 with 2 Axes>"
      ]
     },
     "metadata": {
      "needs_background": "light"
     },
     "output_type": "display_data"
    }
   ],
   "source": [
    "for i in range(relation.shape[0]):\n",
    "    relation.iloc[i][i] = 0\n",
    "\n",
    "plt.figure(figsize=(12,8))\n",
    "sns.heatmap(relation,cmap='Reds')\n",
    "plt.title(\"Relation Heatmap\")\n",
    "plt.show()"
   ]
  },
  {
   "cell_type": "markdown",
   "metadata": {},
   "source": [
    "通过图像，Python和machine-learning有着很重要的关系"
   ]
  },
  {
   "cell_type": "markdown",
   "metadata": {},
   "source": [
    "Think about what questions should be classified as deep learning questions and the implement that definition. （考虑应该将哪些问题归类为深度学习问题，并进行定义。）\n",
    "\n",
    "1. Keras and TensorFlow are deep-learning software.\n",
    "2. Cnn is a class of deep-learning.\n",
    "3. Classification is one of the most active research and application area of neural networks \n",
    "4. NLP - Natural language processing (NLP) is one of the most important technologies of the information age.Recently, deep learning approaches have obtained very high performance across many different NLP tasks.\n",
    "5. Long short-term memory (LSTM) is an artificial recurrent neural network (RNN) architecture[1] used in the field of deep learning.\n",
    "\n",
    "通过网上的资料，上述的问题类型可以归类为深度学习问题"
   ]
  },
  {
   "cell_type": "code",
   "execution_count": 19,
   "metadata": {},
   "outputs": [
    {
     "data": {
      "text/html": [
       "<div>\n",
       "<style scoped>\n",
       "    .dataframe tbody tr th:only-of-type {\n",
       "        vertical-align: middle;\n",
       "    }\n",
       "\n",
       "    .dataframe tbody tr th {\n",
       "        vertical-align: top;\n",
       "    }\n",
       "\n",
       "    .dataframe thead th {\n",
       "        text-align: right;\n",
       "    }\n",
       "</style>\n",
       "<table border=\"1\" class=\"dataframe\">\n",
       "  <thead>\n",
       "    <tr style=\"text-align: right;\">\n",
       "      <th></th>\n",
       "      <th>Id</th>\n",
       "      <th>CreationDate</th>\n",
       "      <th>Tags</th>\n",
       "      <th>DeepLearning</th>\n",
       "    </tr>\n",
       "  </thead>\n",
       "  <tbody>\n",
       "    <tr>\n",
       "      <th>5840</th>\n",
       "      <td>52357</td>\n",
       "      <td>2019-05-22 00:17:38</td>\n",
       "      <td>[machine-learning, python, classification, ker...</td>\n",
       "      <td>True</td>\n",
       "    </tr>\n",
       "    <tr>\n",
       "      <th>2802</th>\n",
       "      <td>58753</td>\n",
       "      <td>2019-09-05 19:04:19</td>\n",
       "      <td>[python, scikit-learn, logistic-regression]</td>\n",
       "      <td>False</td>\n",
       "    </tr>\n",
       "    <tr>\n",
       "      <th>4789</th>\n",
       "      <td>62411</td>\n",
       "      <td>2019-10-30 11:26:54</td>\n",
       "      <td>[r, data, visualization]</td>\n",
       "      <td>False</td>\n",
       "    </tr>\n",
       "    <tr>\n",
       "      <th>2131</th>\n",
       "      <td>58266</td>\n",
       "      <td>2019-08-27 13:04:12</td>\n",
       "      <td>[keras, cnn, object-detection]</td>\n",
       "      <td>True</td>\n",
       "    </tr>\n",
       "    <tr>\n",
       "      <th>7613</th>\n",
       "      <td>64875</td>\n",
       "      <td>2019-12-15 13:31:36</td>\n",
       "      <td>[machine-learning, neural-network, cnn, image-...</td>\n",
       "      <td>True</td>\n",
       "    </tr>\n",
       "  </tbody>\n",
       "</table>\n",
       "</div>"
      ],
      "text/plain": [
       "         Id        CreationDate  \\\n",
       "5840  52357 2019-05-22 00:17:38   \n",
       "2802  58753 2019-09-05 19:04:19   \n",
       "4789  62411 2019-10-30 11:26:54   \n",
       "2131  58266 2019-08-27 13:04:12   \n",
       "7613  64875 2019-12-15 13:31:36   \n",
       "\n",
       "                                                   Tags  DeepLearning  \n",
       "5840  [machine-learning, python, classification, ker...          True  \n",
       "2802        [python, scikit-learn, logistic-regression]         False  \n",
       "4789                           [r, data, visualization]         False  \n",
       "2131                     [keras, cnn, object-detection]          True  \n",
       "7613  [machine-learning, neural-network, cnn, image-...          True  "
      ]
     },
     "execution_count": 19,
     "metadata": {},
     "output_type": "execute_result"
    }
   ],
   "source": [
    "deeplearning_question = pd.read_csv(\"2019_questions.csv\", parse_dates=[\"CreationDate\"])\n",
    "deeplearning_question[\"Tags\"] = deeplearning_question[\"Tags\"].str.replace(\"<\", \"\").str.replace(\">\",\" \").str.split()\n",
    "#深度学习问题 \n",
    "deeplearining_list = ['lstm','keras','cnn','nlp','classification','tensorflow','neural-network', 'deep-learning','lstm']\n",
    "\n",
    "def define_deeplearining(tags):\n",
    "    for tag in tags:\n",
    "        if tag in deeplearining_list:\n",
    "             return True\n",
    "        else:\n",
    "             define_deeplearining(tag[1:]) \n",
    "\n",
    "deeplearning_question[\"DeepLearning\"] = deeplearning_question[\"Tags\"].apply(define_deeplearining)\n",
    "\n",
    "deeplearning_question[\"DeepLearning\"].fillna(False,inplace=True)\n",
    "\n",
    "deeplearning_question[['Id','CreationDate',\"Tags\",'DeepLearning']].sample(5)"
   ]
  },
  {
   "cell_type": "markdown",
   "metadata": {},
   "source": [
    "Count how many deep learning questions are asked per time period.\n",
    "（计算出每个时间段有多少个深度学习问题。）"
   ]
  },
  {
   "cell_type": "code",
   "execution_count": 20,
   "metadata": {},
   "outputs": [
    {
     "data": {
      "text/plain": [
       "<matplotlib.axes._subplots.AxesSubplot at 0x26239f838c8>"
      ]
     },
     "execution_count": 20,
     "metadata": {},
     "output_type": "execute_result"
    },
    {
     "data": {
      "image/png": "[encoded data removed]",
      "text/plain": [
       "<Figure size 432x288 with 1 Axes>"
      ]
     },
     "metadata": {
      "needs_background": "light"
     },
     "output_type": "display_data"
    }
   ],
   "source": [
    "deeplearning_question['yearmonth'] = deeplearning_question['CreationDate'].dt.year*100 + deeplearning_question['CreationDate'].dt.month\n",
    "\n",
    "deeplearning_question_true = deeplearning_question[deeplearning_question[\"DeepLearning\"] == True].groupby('yearmonth')\n",
    "\n",
    "deeplearning_question_true['DeepLearning'].sum().plot(kind = 'bar', title = \"2019 DeepLearning question per month\",color='blue'\n",
    "                                                     ,linestyle='dashed')"
   ]
  }
 ],
 "metadata": {
  "kernelspec": {
   "display_name": "Python 3",
   "language": "python",
   "name": "python3"
  },
  "language_info": {
   "codemirror_mode": {
    "name": "ipython",
    "version": 3
   },
   "file_extension": ".py",
   "mimetype": "text/x-python",
   "name": "python",
   "nbconvert_exporter": "python",
   "pygments_lexer": "ipython3",
   "version": "3.7.6"
  }
 },
 "nbformat": 4,
 "nbformat_minor": 4
}
